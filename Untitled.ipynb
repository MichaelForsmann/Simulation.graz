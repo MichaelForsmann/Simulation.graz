{
 "cells": [
  {
   "cell_type": "code",
   "execution_count": null,
   "id": "e5f64e58-8615-43b1-9b89-56b6218f777d",
   "metadata": {},
   "outputs": [],
   "source": [
    "from datetime import datetime\n",
    "import os\n",
    "import numpy as np\n",
    "import pandas as pd\n",
    "from shapely import Point\n",
    "import osmnx as ox \n",
    "import geopandas as gpd\n",
    "from datetime import timedelta\n",
    "import requests\n",
    "import time\n",
    "import dask_geopandas as dgpd\n",
    "from matplotlib import cm\n",
    "import dask.dataframe as dd"
   ]
  },
  {
   "cell_type": "code",
   "execution_count": 2,
   "id": "7f2f4fbe-bdb6-491c-adf1-125489ff63be",
   "metadata": {},
   "outputs": [],
   "source": [
    "data=gpd.read_parquet(\"Data/Graz_total.gzip\")"
   ]
  },
  {
   "cell_type": "code",
   "execution_count": 3,
   "id": "77b6e50e-260a-4f25-8c59-a577884057e2",
   "metadata": {},
   "outputs": [],
   "source": [
    "#Austria=gpd.read_parquet(\"Data/Austria_fullmap.gzip\")\n",
    "Austria_points=gpd.read_parquet(\"Data/Austria_fullmap_points.gzip\")"
   ]
  },
  {
   "cell_type": "code",
   "execution_count": 6,
   "id": "205d8c5a-500c-4c92-acc3-7bd561bd5cd6",
   "metadata": {},
   "outputs": [],
   "source": [
    "Austria_points_par=Austria_points.reset_index()"
   ]
  },
  {
   "cell_type": "code",
   "execution_count": 7,
   "id": "1daf0738-1a30-4b1a-9393-363f1f2582c4",
   "metadata": {},
   "outputs": [],
   "source": [
    "Austria_points_par=dgpd.from_geopandas(Austria_points_par, npartitions=5)"
   ]
  },
  {
   "cell_type": "code",
   "execution_count": null,
   "id": "bf22d980-7ca6-4b8d-ba39-f59cf5d06787",
   "metadata": {},
   "outputs": [],
   "source": [
    "start = time.time()\n",
    "locatons=data.geometry.unique()\n",
    "locatons1=gpd.GeoDataFrame(geometry=locatons.to_crs(\"EPSG:3035\"),crs=\"EPSG:3035\",index=data.station.unique())\n",
    "X=gpd.sjoin(Austria_points,locatons1, predicate = 'dwithin',distance=15000).reset_index()\n",
    "dataframe=[]\n",
    "area=X[\"geometry\"].area.groupby([X.index_right,X.osmid]).sum()\n",
    "A=X.set_index([\"index_right\",\"osmid\",\"feature\"]).get_coordinates()\n",
    "x,y=A.x,A.y\n",
    "x0,y0=x.values-locatons1.loc[x.index.get_level_values(\"index_right\")].geometry.x.values,y.values-locatons1.loc[y.index.get_level_values(\"index_right\")].geometry.y.values\n",
    "r=np.sqrt((x0)**2+(y0)**2)\n",
    "theta=np.arctan2(x0,y0)\n",
    "data_total=pd.DataFrame(np.array([r,theta]).T,columns=np.array([\"r\",\"theta\"]),index=x.index)\n",
    "for i in range(1000):\n",
    "    scale=np.exp(-data_total.r.loc[data_total.index.get_level_values(\"index_right\")==data.station.iloc[-1000+i]]/data.Windspeed.iloc[-1000+i]*0.0002)\n",
    "    theta=np.abs(data_total.theta.loc[data_total.index.get_level_values(\"index_right\")==data.station.iloc[-1000+i]]-data.angle.iloc[-1000+i])\n",
    "    theta[theta>np.pi/2]=np.pi/2\n",
    "    scale_theta=np.cos(theta)\n",
    "    dat=pd.DataFrame({\"scale_theta\":scale_theta.values,\"scale\":scale.values},index=scale.index)\n",
    "    scaled=(dat.scale*dat.scale_theta*area.loc[area.index.get_level_values(\"index_right\")==data.station.iloc[-1000+i]])\n",
    "    data1=scaled.groupby(\"feature\").sum()\n",
    "    dataframe.append(data1)\n"
   ]
  },
  {
   "cell_type": "code",
   "execution_count": 21,
   "id": "ccef79b0-f1cc-4c17-9c21-88a94bed8667",
   "metadata": {},
   "outputs": [],
   "source": [
    "scale=np.exp(-data_total.r.loc[data_total.index.get_level_values(\"index_right\")==data.station.iloc[i]]/data.Windspeed.iloc[i]*0.002)\n",
    "theta=np.abs(data_total.theta.loc[data_total.index.get_level_values(\"index_right\")==data.station.iloc[i]]-data.angle.iloc[i])"
   ]
  },
  {
   "cell_type": "code",
   "execution_count": 23,
   "id": "f6988921-66f6-4822-987f-cbbd32999aaa",
   "metadata": {},
   "outputs": [
    {
     "data": {
      "text/plain": [
       "index_right  osmid       feature  \n",
       "Nord         22203       forest       373.417581\n",
       "                         forest       427.527249\n",
       "                         forest       464.443758\n",
       "                         forest       356.335830\n",
       "                         forest       354.020388\n",
       "                                         ...    \n",
       "             1313734852  secondary      0.000356\n",
       "                         secondary      0.000357\n",
       "                         secondary      0.000357\n",
       "                         secondary      0.000357\n",
       "                         secondary      0.000356\n",
       "Length: 1076900, dtype: float64"
      ]
     },
     "execution_count": 23,
     "metadata": {},
     "output_type": "execute_result"
    }
   ],
   "source": [
    "scaled"
   ]
  },
  {
   "cell_type": "code",
   "execution_count": 124,
   "id": "9803feab-5a2a-4621-84db-cd62e0b83b10",
   "metadata": {},
   "outputs": [],
   "source": [
    "import seaborn as sns "
   ]
  },
  {
   "cell_type": "code",
   "execution_count": null,
   "id": "073bda2a-fb5f-4283-ae14-59a05a815736",
   "metadata": {},
   "outputs": [],
   "source": [
    "sns.heatmap(pd.DataFrame(dataframe).corr(),annot=True)"
   ]
  },
  {
   "cell_type": "code",
   "execution_count": 10,
   "id": "e5712fe2-7a56-4512-a662-af5e526cfd58",
   "metadata": {},
   "outputs": [
    {
     "ename": "NameError",
     "evalue": "name 'area_index' is not defined",
     "output_type": "error",
     "traceback": [
      "\u001b[0;31m---------------------------------------------------------------------------\u001b[0m",
      "\u001b[0;31mNameError\u001b[0m                                 Traceback (most recent call last)",
      "Cell \u001b[0;32mIn[10], line 1\u001b[0m\n\u001b[0;32m----> 1\u001b[0m \u001b[43marea_index\u001b[49m\u001b[38;5;241m.\u001b[39mloc[area_index\u001b[38;5;241m.\u001b[39mindex\u001b[38;5;241m.\u001b[39mget_level_values(\u001b[38;5;124m\"\u001b[39m\u001b[38;5;124mindex_right\u001b[39m\u001b[38;5;124m\"\u001b[39m)\u001b[38;5;241m==\u001b[39mdata\u001b[38;5;241m.\u001b[39mstation\u001b[38;5;241m.\u001b[39miloc[i]]\u001b[38;5;241m.\u001b[39mindex\u001b[38;5;241m.\u001b[39mget_level_values(\u001b[38;5;124m\"\u001b[39m\u001b[38;5;124mfeature\u001b[39m\u001b[38;5;124m\"\u001b[39m)\n",
      "\u001b[0;31mNameError\u001b[0m: name 'area_index' is not defined"
     ]
    }
   ],
   "source": [
    "area_index.loc[area_index.index.get_level_values(\"index_right\")==data.station.iloc[i]].index.get_level_values(\"feature\")"
   ]
  },
  {
   "cell_type": "markdown",
   "id": "fb19b6ed-a871-4b4f-b1ac-332c8e6cf87f",
   "metadata": {},
   "source": [
    "# Generating data for specific timepoints\n",
    "Scale the area of the sources with the distance, windspeed, and wind direction of the time point.\n",
    "We scale concentration with the average time from source to monitor $\\frac{r_i}{V}=t$\n",
    "\\begin{equation}\n",
    "r_{scale,k}(r,v_j,\\lambda_p)=\\sum_{i=1}^N exp(\\frac{\\lambda_p r_i}{v_j})\n",
    "\\end{equation}\n",
    "We also have a scaling term to take wind direction into account.\n",
    "\\begin{equation}\n",
    "\\theta_{scale,k}(\\theta_i,\\theta_{wind})=\\sum_{i=1}^N cos(abs((\\theta_i-\\theta_{wind}))\n",
    "\\end{equation}\n",
    "combining these two scaling functions and using the areas of the assumed sources as a proxy for the essmitionrate \n",
    "A_{source,k} instead of  dc/dt give us the final equation \n",
    "\\begin{equation}\n",
    "A_{scale,k}=A_{source} \\theta_{scale} r_{scale}\n",
    "\\end{equation}\n",
    "for each monitor we than have the final amount of scaled area to be \n",
    "\\begin{equation}\n",
    "A_{scale,f}=\\sum_k A_{scale,f,k}\n",
    "\\end{equation}"
   ]
  },
  {
   "cell_type": "code",
   "execution_count": 143,
   "id": "c71a21e8-2553-4be3-a581-cad054bc8780",
   "metadata": {},
   "outputs": [],
   "source": [
    "\n",
    "scale=np.exp(-data_total.r.loc[data_total.index.get_level_values(\"index_right\")==data.station.iloc[0]]/data.Windspeed.iloc[0]*0.0002)\n",
    "theta=np.abs(data_total.theta.loc[data_total.index.get_level_values(\"index_right\")==data.station.iloc[0]]-data.angle.iloc[0])\n",
    "theta[theta>np.pi/2]=np.pi/2\n",
    "scale_theta=np.cos(theta)\n",
    "dat=pd.DataFrame({\"scale_theta\":scale_theta.values,\"scale\":scale.values},index=scale.index)\n",
    "scaled=(dat.scale*dat.scale_theta*area.loc[area.index.get_level_values(\"index_right\")==data.station.iloc[0]])\n",
    "data1=scaled.groupby(\"feature\").sum()\n",
    "dataframe.append(data1)"
   ]
  },
  {
   "cell_type": "code",
   "execution_count": 144,
   "id": "9cc22d10-71fd-4ff9-8b6e-39c1e5597e91",
   "metadata": {},
   "outputs": [],
   "source": [
    "index123=(dat.scale*dat.scale_theta).loc[index[0]==dat.index.get_level_values(\"feature\")]>0.01"
   ]
  },
  {
   "cell_type": "code",
   "execution_count": 150,
   "id": "fc95af69-dec0-4339-8745-f218be860c1e",
   "metadata": {},
   "outputs": [
    {
     "data": {
      "text/plain": [
       "index_right  osmid       feature  \n",
       "Nord         3997981     secondary    0.447232\n",
       "                         secondary    0.447634\n",
       "                         secondary    0.447588\n",
       "                         secondary    0.447733\n",
       "                         secondary    0.448198\n",
       "                                        ...   \n",
       "             1297642223  secondary    1.290976\n",
       "                         secondary    1.291249\n",
       "                         secondary    1.291369\n",
       "                         secondary    1.289818\n",
       "                         secondary    1.289808\n",
       "Name: theta, Length: 55826, dtype: float64"
      ]
     },
     "execution_count": 150,
     "metadata": {},
     "output_type": "execute_result"
    }
   ],
   "source": [
    "data_total.loc[data_total.index.get_level_values(\"index_right\")==data.station.iloc[0]].loc[index[0]==dat.index.get_level_values(\"feature\")].theta.loc[index123]"
   ]
  },
  {
   "cell_type": "code",
   "execution_count": null,
   "id": "a7cd17a4-949f-467f-a34e-12e05dd2b971",
   "metadata": {},
   "outputs": [],
   "source": [
    "import matplotlib.pyplot as plt\n",
    "import numpy as np\n",
    "#hest=['Pastel1', 'Pastel2', 'Paired', 'Accent', 'Dark2','Set1', 'Set2', 'Set3', 'tab10', 'tab20']\n",
    "hest=['Greys', 'Purples', 'Blues', 'Greens', 'Oranges', 'Reds','YlOrBr', 'YlOrRd', 'OrRd','PuRd']\n",
    "fig, ax = plt.subplots(subplot_kw={'projection': 'polar'},figsize=(10,10))\n",
    "ax.set_rmax(5000)\n",
    "for i in range(len(index)):\n",
    "    top =plt.colormaps.get_cmap(hest[i])\n",
    "    index123=(dat.scale*dat.scale_theta).loc[index[i]==dat.index.get_level_values(\"feature\")]>0.01\n",
    "    ax.scatter(data_total.loc[data_total.index.get_level_values(\"index_right\")==data.station.iloc[0]].loc[index[i]==dat.index.get_level_values(\"feature\")].theta.loc[index123],data_total.loc[data_total.index.get_level_values(\"index_right\")==data.station.iloc[0]].loc[index[i]==dat.index.get_level_values(\"feature\")].r.loc[index123],c=top((dat.scale*dat.scale_theta).loc[index[i]==dat.index.get_level_values(\"feature\")].loc[index123]),s=0.01,label=index[i]+\" \"+hest[i])\n",
    "arr1 = ax.arrow( data.angle.iloc[0],1000, -data.angle.iloc[0],1000, alpha = 1, width = 0.05,edgecolor = 'black', facecolor = 'green', lw = 2, zorder = 5)\n",
    "ax.legend(labelcolor=[\"grey\",\"purple\",\"Blue\",\"Green\", \"Orange\",\"red\",\"yellow\"])\n",
    "fig.savefig(\"newest_version.png\")"
   ]
  },
  {
   "cell_type": "code",
   "execution_count": null,
   "id": "6689a363-bd79-4b90-a252-14953e563c3f",
   "metadata": {},
   "outputs": [],
   "source": []
  }
 ],
 "metadata": {
  "kernelspec": {
   "display_name": "Python 3 (ipykernel)",
   "language": "python",
   "name": "python3"
  },
  "language_info": {
   "codemirror_mode": {
    "name": "ipython",
    "version": 3
   },
   "file_extension": ".py",
   "mimetype": "text/x-python",
   "name": "python",
   "nbconvert_exporter": "python",
   "pygments_lexer": "ipython3",
   "version": "3.12.2"
  }
 },
 "nbformat": 4,
 "nbformat_minor": 5
}
